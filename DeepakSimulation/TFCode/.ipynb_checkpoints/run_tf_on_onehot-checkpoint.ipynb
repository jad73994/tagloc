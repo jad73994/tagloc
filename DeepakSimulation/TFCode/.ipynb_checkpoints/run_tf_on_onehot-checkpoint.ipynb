{
 "cells": [
  {
   "cell_type": "code",
   "execution_count": 1,
   "metadata": {
    "collapsed": true
   },
   "outputs": [],
   "source": [
    "from __future__ import print_function\n",
    "import numpy as np\n",
    "import tensorflow as tf\n",
    "from six.moves import cPickle as pickle\n",
    "from six.moves import range\n",
    "import scipy.io as spio\n",
    "import h5py"
   ]
  },
  {
   "cell_type": "markdown",
   "metadata": {},
   "source": [
    "Import Data from Matlab"
   ]
  },
  {
   "cell_type": "code",
   "execution_count": 2,
   "metadata": {},
   "outputs": [
    {
     "name": "stdout",
     "output_type": "stream",
     "text": [
      "(100000, 80)\n",
      "(100000, 31, 41, 4)\n"
     ]
    }
   ],
   "source": [
    "filepath = '../ReflectionModel/dataset_multipath_profiles_one_hot_2m.mat'\n",
    "arrays = {}\n",
    "f = h5py.File(filepath)\n",
    "for k, v in f.items():\n",
    "    arrays[k] = np.array(v)\n",
    "\n",
    "features = np.transpose(arrays['features'],(3,1,0,2))\n",
    "labels = np.transpose(arrays['labels_one_hot'])\n",
    "print(labels.shape)\n",
    "print(features.shape)"
   ]
  },
  {
   "cell_type": "markdown",
   "metadata": {},
   "source": [
    "Preprocess Data to make it 0-mean, 1 variance"
   ]
  },
  {
   "cell_type": "code",
   "execution_count": 3,
   "metadata": {},
   "outputs": [
    {
     "name": "stdout",
     "output_type": "stream",
     "text": [
      "()\n",
      "(100000, 31, 41, 4)\n"
     ]
    }
   ],
   "source": [
    "#feature_mean = np.mean(features,axis=0)\n",
    "feature_mean = np.mean(features)\n",
    "feature_std = np.std(features)\n",
    "feature_mean_m = np.tile(feature_mean, [features.shape[0],features.shape[1],features.shape[2],features.shape[3]])\n",
    "feature_std_m = np.tile(feature_std, [features.shape[0],features.shape[1],features.shape[2],features.shape[3]])\n",
    "features_normal = np.divide(features - feature_mean_m, feature_std_m)\n",
    "print(feature_mean.shape)\n",
    "print(feature_mean_m.shape)\n"
   ]
  },
  {
   "cell_type": "markdown",
   "metadata": {},
   "source": [
    "Divide data into train, test and validation"
   ]
  },
  {
   "cell_type": "code",
   "execution_count": 4,
   "metadata": {},
   "outputs": [
    {
     "name": "stdout",
     "output_type": "stream",
     "text": [
      "<type 'numpy.float32'>\n",
      "(60000, 31, 41, 4)\n",
      "[[-0.32100356 -0.16091396 -0.43195084  0.09734473]\n",
      " [-0.32100356 -0.140065   -0.43023834  0.09449158]\n",
      " [-0.32100356 -0.10880438 -0.42264587  0.09134683]\n",
      " [-0.32100356 -0.08808839 -0.40795335  0.08791703]\n",
      " [-0.32100356 -0.05740891 -0.38971373  0.08420902]\n",
      " [-0.32100356 -0.03734463 -0.36622947  0.08022989]\n",
      " [-0.32100356 -0.00805223 -0.33742759  0.07598703]\n",
      " [-0.32100356  0.02000604 -0.30328035  0.07148801]\n",
      " [-0.32100356  0.04652648 -0.27079904  0.06674068]\n",
      " [-0.32100356  0.06320399 -0.23480465  0.06175307]\n",
      " [-0.32100356  0.08649906 -0.19554727  0.05653339]\n",
      " [-0.32100356  0.10747883 -0.16204199  0.04543154]\n",
      " [-0.32100356  0.12587866 -0.12694889  0.03956659]\n",
      " [-0.32100356  0.14598393 -0.09059244  0.02725257]\n",
      " [-0.32100356  0.15747036 -0.05336293  0.02082136]\n",
      " [-0.32100356  0.16568391 -0.02513981  0.00745574]\n",
      " [-0.32100356  0.17049006  0.01248187 -0.00652014]\n",
      " [-0.32100356  0.17144047  0.04038305 -0.02103327]\n",
      " [-0.32100356  0.16800165  0.05869231 -0.03601088]\n",
      " [-0.32100356  0.16100733  0.08551942 -0.05138098]\n",
      " [-0.32100356  0.14624518  0.1113334  -0.06707275]\n",
      " [-0.32100052  0.13122867  0.12783788 -0.09106264]\n",
      " [-0.32100052  0.11299505  0.14367735 -0.11539613]\n",
      " [-0.32100052  0.09173502  0.15876459 -0.13170385]\n",
      " [-0.32100052  0.0590772   0.17301238 -0.15614511]\n",
      " [-0.32100052  0.03169213  0.18633428 -0.1884086 ]\n",
      " [-0.32100052  0.00215312  0.19864522 -0.21214585]\n",
      " [-0.32100052 -0.02922495  0.2043955  -0.24290381]\n",
      " [-0.32100052 -0.07335144  0.21503501 -0.2723752 ]\n",
      " [-0.32100052 -0.10772219  0.2199045  -0.30032226]\n",
      " [-0.32100052 -0.14280552  0.22869541 -0.32656279]\n",
      " [-0.32100052 -0.17826211  0.23259857 -0.35676944]\n",
      " [-0.32100052 -0.21376161  0.23616184 -0.3839561 ]\n",
      " [-0.32100052 -0.23729473  0.23937686 -0.40806645]\n",
      " [-0.32100052 -0.27217093  0.24223556 -0.43297121]\n",
      " [-0.32100052 -0.3062878   0.24473026 -0.42779419]\n",
      " [-0.32100052 -0.33938476  0.24685368 -0.41117895]\n",
      " [-0.32100052 -0.36076576  0.24859887 -0.39835548]\n",
      " [-0.32100052 -0.39165273  0.24995938 -0.38787219]\n",
      " [-0.32100052 -0.41136435  0.25092912 -0.38191763]\n",
      " [-0.32100052 -0.43024018  0.25150248 -0.38026521]]\n",
      "[ 0.  0.  0.  0.  0.  0.  0.  0.  0.  0.  0.  0.  0.  0.  0.  0.  0.  0.\n",
      "  0.  0.  0.  0.  0.  0.  1.  0.  0.  0.  0.  0.  0.  0.  0.  0.  0.  0.\n",
      "  0.  0.  0.  0.  0.  0.  0.  0.  0.  0.  0.  0.  0.  0.  0.  0.  0.  0.\n",
      "  0.  0.  0.  0.  0.  0.  0.  0.  0.  0.  0.  0.  0.  0.  0.  0.  0.  0.\n",
      "  0.  0.  0.  0.  0.  0.  0.  0.]\n"
     ]
    }
   ],
   "source": [
    "train_pts = 60000\n",
    "valid_pts = 20000\n",
    "test_pts = 20000\n",
    "features_normal = features_normal.astype('float32')\n",
    "labels_normal = labels.astype('float32')\n",
    "print(type(features_normal[0,0,0,0]))\n",
    "labels_normal = labels_normal.astype('float32')\n",
    "train_dataset = (features_normal[0:train_pts ,:,:,:])\n",
    "train_labels = labels_normal[0:train_pts,:]\n",
    "valid_dataset = features_normal[train_pts:valid_pts+train_pts,:,:,:]\n",
    "valid_labels = labels_normal[train_pts:valid_pts+train_pts,:]\n",
    "test_dataset = features_normal[train_pts+valid_pts:train_pts+valid_pts+test_pts,:,:,:]\n",
    "test_labels = labels_normal[train_pts+valid_pts:train_pts+valid_pts+test_pts,:]\n",
    "print(train_dataset.shape)\n",
    "print(train_dataset[0,0,:,:])\n",
    "print(train_labels[0,:])"
   ]
  },
  {
   "cell_type": "code",
   "execution_count": 5,
   "metadata": {
    "collapsed": true
   },
   "outputs": [],
   "source": [
    "def accuracy(predictions, labels):\n",
    "  return (100.0 * np.sum(np.argmax(predictions, 1) == np.argmax(labels, 1))\n",
    "          / predictions.shape[0])"
   ]
  },
  {
   "cell_type": "code",
   "execution_count": 9,
   "metadata": {},
   "outputs": [],
   "source": [
    "batch_size = 256\n",
    "patch_size = 5\n",
    "depth = 32\n",
    "num_hidden = 64\n",
    "keep_prob = 0.8\n",
    "decay_rate = 0.5\n",
    "decay_steps = 1500\n",
    "image_height = train_dataset.shape[1]\n",
    "image_width = train_dataset.shape[2]\n",
    "num_channels = train_dataset.shape[3]\n",
    "num_labels = train_labels.shape[1]\n",
    "graph = tf.Graph()\n",
    "\n",
    "with graph.as_default():\n",
    "\n",
    "  # Input data.\n",
    "  tf_train_dataset = tf.placeholder(\n",
    "    tf.float32, shape=(batch_size, image_height, image_width, num_channels))\n",
    "  tf_train_labels = tf.placeholder(tf.float32, shape=(batch_size, num_labels))\n",
    "  tf_valid_dataset = tf.constant(valid_dataset)\n",
    "  tf_test_dataset = tf.constant(test_dataset)\n",
    "  \n",
    "  # Variables.\n",
    "  layer1_weights = tf.Variable(tf.truncated_normal(\n",
    "      [patch_size, patch_size, num_channels, depth], stddev=0.1))\n",
    "  layer1_biases = tf.Variable(tf.zeros([depth]))\n",
    "  layer2_weights = tf.Variable(tf.truncated_normal(\n",
    "      [patch_size, patch_size, depth, depth], stddev=0.1))\n",
    "  layer2_biases = tf.Variable(tf.constant(1.0, shape=[depth]))\n",
    "  layer2b_weights = tf.Variable(tf.truncated_normal(\n",
    "      [patch_size, patch_size, depth, depth], stddev=0.1))\n",
    "  layer2b_biases = tf.Variable(tf.constant(1.0, shape=[depth]))\n",
    "  layer3_weights = tf.Variable(tf.truncated_normal(\n",
    "      [int(np.ceil(image_height / 4.0) * np.ceil(image_width / 4.0) * depth), num_hidden], stddev=0.1))\n",
    "  layer3_biases = tf.Variable(tf.constant(1.0, shape=[num_hidden]))\n",
    "  layer4_weights = tf.Variable(tf.truncated_normal(\n",
    "      [num_hidden, num_labels], stddev=0.1))\n",
    "  layer4_biases = tf.Variable(tf.constant(1.0, shape=[num_labels]))\n",
    "  \n",
    "  # Model.\n",
    "  #def model(data):\n",
    "  #  conv = tf.nn.conv2d(data, layer1_weights, [1, 2, 2, 1], padding='SAME')\n",
    "  #  hidden = tf.nn.relu(conv + layer1_biases)\n",
    "  #  conv = tf.nn.conv2d(hidden, layer2_weights, [1, 2, 2, 1], padding='SAME')\n",
    "  #  hidden = tf.nn.relu(conv + layer2_biases)\n",
    "  #  shape = hidden.get_shape().as_list()\n",
    "  #  reshape = tf.reshape(hidden, [shape[0], shape[1] * shape[2] * shape[3]])\n",
    "  #  hidden = tf.nn.relu(tf.matmul(reshape, layer3_weights) + layer3_biases)\n",
    "  #  return tf.matmul(hidden, layer4_weights) + layer4_biases\n",
    "  def model_for_accuracy(data):\n",
    "    conv = tf.nn.conv2d(data, layer1_weights, [1, 1, 1, 1], padding='SAME')\n",
    "    hidden = tf.nn.relu(conv + layer1_biases)\n",
    "    hidden = tf.nn.max_pool(hidden,[1,2,2,1],[1,2,2,1],padding='SAME')\n",
    "    conv = tf.nn.conv2d(hidden, layer2_weights, [1, 1, 1, 1], padding='SAME')\n",
    "    hidden = tf.nn.relu(conv + layer2_biases)\n",
    "    hidden = tf.nn.max_pool(hidden,[1,2,2,1],[1,2,2,1],padding='SAME')    \n",
    "    conv = tf.nn.conv2d(hidden, layer2b_weights, [1, 1, 1, 1], padding='SAME')\n",
    "    hidden = tf.nn.relu(conv + layer2b_biases)\n",
    "    hidden = tf.nn.max_pool(hidden,[1,2,2,1],[1,1,1,1],padding='SAME')    \n",
    "    shape = hidden.get_shape().as_list()\n",
    "    reshape = tf.reshape(hidden, [shape[0], shape[1] * shape[2] * shape[3]])\n",
    "    hidden = tf.nn.relu(tf.matmul(reshape, layer3_weights) + layer3_biases)\n",
    "    return tf.matmul(hidden, layer4_weights) + layer4_biases\n",
    "  def model(data):\n",
    "    conv = tf.nn.conv2d(data, layer1_weights, [1, 1, 1, 1], padding='SAME')\n",
    "    hidden = tf.nn.relu(conv + layer1_biases)\n",
    "    hidden = tf.nn.max_pool(hidden,[1,2,2,1],[1,2,2,1],padding='SAME')\n",
    "    conv = tf.nn.conv2d(hidden, layer2_weights, [1, 1, 1, 1], padding='SAME')\n",
    "    hidden = tf.nn.relu(conv + layer2_biases)\n",
    "    hidden = tf.nn.max_pool(hidden,[1,2,2,1],[1,2,2,1],padding='SAME')    \n",
    "    conv = tf.nn.conv2d(hidden, layer2b_weights, [1, 1, 1, 1], padding='SAME')\n",
    "    hidden = tf.nn.relu(conv + layer2b_biases)\n",
    "    hidden = tf.nn.max_pool(hidden,[1,2,2,1],[1,1,1,1],padding='SAME')    \n",
    "    shape = hidden.get_shape().as_list()\n",
    "    reshape = tf.reshape(hidden, [shape[0], shape[1] * shape[2] * shape[3]])\n",
    "    hidden = tf.nn.relu(tf.matmul(reshape, layer3_weights) + layer3_biases)\n",
    "#    hidden = tf.nn.dropout(hidden,keep_prob)\n",
    "    return tf.matmul(hidden, layer4_weights) + layer4_biases\n",
    "  \n",
    "  # Training computation.\n",
    "  logits = model(tf_train_dataset)\n",
    "  loss = tf.reduce_mean(\n",
    "    tf.nn.softmax_cross_entropy_with_logits(labels=tf_train_labels, logits=logits))\n",
    "    \n",
    "  # Optimizer.\n",
    "  optimizer = tf.train.GradientDescentOptimizer(0.05).minimize(loss)\n",
    "  \n",
    "  # Predictions for the training, validation, and test data.\n",
    "  train_prediction = tf.nn.softmax(logits)\n",
    "  valid_prediction = tf.nn.softmax(model_for_accuracy(tf_valid_dataset))\n",
    "  test_prediction = tf.nn.softmax(model_for_accuracy(tf_test_dataset))"
   ]
  },
  {
   "cell_type": "markdown",
   "metadata": {},
   "source": [
    "Run the optimizer"
   ]
  },
  {
   "cell_type": "code",
   "execution_count": null,
   "metadata": {},
   "outputs": [
    {
     "name": "stdout",
     "output_type": "stream",
     "text": [
      "Initialized\n",
      "Minibatch loss at step 0: 28.463078\n",
      "Minibatch accuracy: 3.1%\n",
      "Validation accuracy: 1.3%\n",
      "Test accuracy: 1.4%\n",
      "Minibatch loss at step 50: 3.155939\n",
      "Minibatch accuracy: 23.8%\n",
      "Validation accuracy: 19.1%\n"
     ]
    }
   ],
   "source": [
    "num_steps = 5001\n",
    "\n",
    "with tf.Session(graph=graph) as session:\n",
    "  tf.global_variables_initializer().run()\n",
    "  print('Initialized')\n",
    "  for step in range(num_steps):\n",
    "    offset = (step * batch_size) % (train_labels.shape[0] - batch_size)\n",
    "    batch_data = train_dataset[offset:(offset + batch_size), :, :, :]\n",
    "    batch_labels = train_labels[offset:(offset + batch_size), :]\n",
    "    feed_dict = {tf_train_dataset : batch_data, tf_train_labels : batch_labels}\n",
    "    _, l, predictions = session.run(\n",
    "      [optimizer, loss, train_prediction], feed_dict=feed_dict)\n",
    "#    print(batch_labels[0,:])\n",
    "#    print('hi')\n",
    "    if (step % 50 == 0):\n",
    "      print('Minibatch loss at step %d: %f' % (step, l))\n",
    "      print('Minibatch accuracy: %.1f%%' % accuracy(predictions, batch_labels))      \n",
    "    if (step % 500 == 0):\n",
    "      print('Validation accuracy: %.1f%%' % accuracy(\n",
    "        valid_prediction.eval(), valid_labels))  \n",
    "      print('Test accuracy: %.1f%%' % accuracy(test_prediction.eval(), test_labels))"
   ]
  },
  {
   "cell_type": "code",
   "execution_count": null,
   "metadata": {
    "collapsed": true
   },
   "outputs": [],
   "source": []
  }
 ],
 "metadata": {
  "kernelspec": {
   "display_name": "Python 2",
   "language": "python",
   "name": "python2"
  },
  "language_info": {
   "codemirror_mode": {
    "name": "ipython",
    "version": 2
   },
   "file_extension": ".py",
   "mimetype": "text/x-python",
   "name": "python",
   "nbconvert_exporter": "python",
   "pygments_lexer": "ipython2",
   "version": "2.7.12"
  }
 },
 "nbformat": 4,
 "nbformat_minor": 2
}

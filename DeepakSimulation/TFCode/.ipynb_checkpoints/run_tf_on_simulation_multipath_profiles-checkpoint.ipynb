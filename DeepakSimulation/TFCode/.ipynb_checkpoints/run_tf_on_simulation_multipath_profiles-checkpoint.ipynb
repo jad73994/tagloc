{
 "cells": [
  {
   "cell_type": "code",
   "execution_count": 2,
   "metadata": {},
   "outputs": [],
   "source": [
    "from __future__ import print_function\n",
    "import numpy as np\n",
    "import tensorflow as tf\n",
    "from six.moves import cPickle as pickle\n",
    "from six.moves import range\n",
    "import scipy.io as spio\n",
    "import h5py"
   ]
  },
  {
   "cell_type": "markdown",
   "metadata": {},
   "source": [
    "Import Data from Matlab"
   ]
  },
  {
   "cell_type": "code",
   "execution_count": 3,
   "metadata": {},
   "outputs": [
    {
     "name": "stdout",
     "output_type": "stream",
     "text": [
      "(100000, 2)\n",
      "(100000, 31, 41, 4)\n"
     ]
    }
   ],
   "source": [
    "filepath = '../ReflectionModel/dataset_multipath_profiles.mat'\n",
    "arrays = {}\n",
    "f = h5py.File(filepath)\n",
    "for k, v in f.items():\n",
    "    arrays[k] = np.array(v)\n",
    "\n",
    "features = np.transpose(arrays['features'],(3,1,0,2))\n",
    "labels = np.transpose(arrays['labels'])\n",
    "print(labels.shape)\n",
    "print(features.shape)"
   ]
  },
  {
   "cell_type": "markdown",
   "metadata": {},
   "source": [
    "Preprocess Data to make it 0-mean, 1 variance"
   ]
  },
  {
   "cell_type": "code",
   "execution_count": 5,
   "metadata": {},
   "outputs": [
    {
     "name": "stdout",
     "output_type": "stream",
     "text": [
      "()\n",
      "(100000, 31, 41, 4)\n",
      "[ 2.51284359  2.51284359  2.51284359 ...,  2.51284359  2.51284359\n",
      "  2.51284359]\n",
      "[ 2.51284359  2.51284359  2.51284359 ...,  2.51284359  2.51284359\n",
      "  2.51284359]\n"
     ]
    }
   ],
   "source": [
    "#feature_mean = np.mean(features,axis=0)\n",
    "feature_mean = np.mean(features)\n",
    "feature_std = np.std(features)\n",
    "feature_mean_m = np.tile(feature_mean, [features.shape[0],features.shape[1],features.shape[2],features.shape[3]])\n",
    "feature_std_m = np.tile(feature_std, [features.shape[0],features.shape[1],features.shape[2],features.shape[3]])\n",
    "features_normal = np.divide(features - feature_mean_m, feature_std_m)\n",
    "label_mean = np.mean(labels,axis=0)\n",
    "label_std = np.std(labels,axis=0)\n",
    "label_mean_m = np.tile(label_mean, [labels.shape[0],1])\n",
    "label_std_m = np.tile(label_std, [labels.shape[0],1])\n",
    "labels_normal = np.divide(labels- label_mean_m, label_std_m)\n",
    "print(feature_mean.shape)\n",
    "print(feature_mean_m.shape)\n",
    "print(feature_mean_m[:,1,1,1])\n",
    "print(feature_mean_m[:,0,1,2])"
   ]
  },
  {
   "cell_type": "markdown",
   "metadata": {},
   "source": [
    "Divide the dataset into train, test and validation"
   ]
  },
  {
   "cell_type": "code",
   "execution_count": 6,
   "metadata": {},
   "outputs": [
    {
     "name": "stdout",
     "output_type": "stream",
     "text": [
      "<type 'numpy.float64'>\n",
      "<type 'numpy.float32'>\n",
      "(60000, 31, 41, 4)\n",
      "[[-0.32100356 -0.16091396 -0.43195084  0.09734473]\n",
      " [-0.32100356 -0.140065   -0.43023834  0.09449158]\n",
      " [-0.32100356 -0.10880438 -0.42264587  0.09134683]\n",
      " [-0.32100356 -0.08808839 -0.40795335  0.08791703]\n",
      " [-0.32100356 -0.05740891 -0.38971373  0.08420902]\n",
      " [-0.32100356 -0.03734463 -0.36622947  0.08022989]\n",
      " [-0.32100356 -0.00805223 -0.33742759  0.07598703]\n",
      " [-0.32100356  0.02000604 -0.30328035  0.07148801]\n",
      " [-0.32100356  0.04652648 -0.27079904  0.06674068]\n",
      " [-0.32100356  0.06320399 -0.23480465  0.06175307]\n",
      " [-0.32100356  0.08649906 -0.19554727  0.05653339]\n",
      " [-0.32100356  0.10747883 -0.16204199  0.04543154]\n",
      " [-0.32100356  0.12587866 -0.12694889  0.03956659]\n",
      " [-0.32100356  0.14598393 -0.09059244  0.02725257]\n",
      " [-0.32100356  0.15747036 -0.05336293  0.02082136]\n",
      " [-0.32100356  0.16568391 -0.02513981  0.00745574]\n",
      " [-0.32100356  0.17049006  0.01248187 -0.00652014]\n",
      " [-0.32100356  0.17144047  0.04038305 -0.02103327]\n",
      " [-0.32100356  0.16800165  0.05869231 -0.03601088]\n",
      " [-0.32100356  0.16100733  0.08551942 -0.05138098]\n",
      " [-0.32100356  0.14624518  0.1113334  -0.06707275]\n",
      " [-0.32100052  0.13122867  0.12783788 -0.09106264]\n",
      " [-0.32100052  0.11299505  0.14367735 -0.11539613]\n",
      " [-0.32100052  0.09173502  0.15876459 -0.13170385]\n",
      " [-0.32100052  0.0590772   0.17301238 -0.15614511]\n",
      " [-0.32100052  0.03169213  0.18633428 -0.1884086 ]\n",
      " [-0.32100052  0.00215312  0.19864522 -0.21214585]\n",
      " [-0.32100052 -0.02922495  0.2043955  -0.24290381]\n",
      " [-0.32100052 -0.07335144  0.21503501 -0.2723752 ]\n",
      " [-0.32100052 -0.10772219  0.2199045  -0.30032226]\n",
      " [-0.32100052 -0.14280552  0.22869541 -0.32656279]\n",
      " [-0.32100052 -0.17826211  0.23259857 -0.35676944]\n",
      " [-0.32100052 -0.21376161  0.23616184 -0.3839561 ]\n",
      " [-0.32100052 -0.23729473  0.23937686 -0.40806645]\n",
      " [-0.32100052 -0.27217093  0.24223556 -0.43297121]\n",
      " [-0.32100052 -0.3062878   0.24473026 -0.42779419]\n",
      " [-0.32100052 -0.33938476  0.24685368 -0.41117895]\n",
      " [-0.32100052 -0.36076576  0.24859887 -0.39835548]\n",
      " [-0.32100052 -0.39165273  0.24995938 -0.38787219]\n",
      " [-0.32100052 -0.41136435  0.25092912 -0.38191763]\n",
      " [-0.32100052 -0.43024018  0.25150248 -0.38026521]]\n"
     ]
    }
   ],
   "source": [
    "train_pts = 60000\n",
    "valid_pts = 20000\n",
    "test_pts = 20000\n",
    "print(type(features_normal[0,0,0,0]))\n",
    "features = features.astype('float32')\n",
    "features_normal = features_normal.astype('float32')\n",
    "print(type(features_normal[0,0,0,0]))\n",
    "labels_normal = labels_normal.astype('float32')\n",
    "train_dataset = (features_normal[0:train_pts ,:,:,:])\n",
    "train_labels = labels_normal[0:train_pts,:]\n",
    "valid_dataset = features_normal[train_pts:valid_pts+train_pts,:,:,:]\n",
    "valid_labels = labels_normal[train_pts:valid_pts+train_pts,:]\n",
    "test_dataset = features_normal[train_pts+valid_pts:train_pts+valid_pts+test_pts,:,:,:]\n",
    "test_labels = labels_normal[train_pts+valid_pts:train_pts+valid_pts+test_pts,:]\n",
    "print(train_dataset.shape)\n",
    "print(train_dataset[0,0,:,:])"
   ]
  },
  {
   "cell_type": "code",
   "execution_count": 27,
   "metadata": {},
   "outputs": [],
   "source": [
    "batch_size = 256\n",
    "patch_size = 5\n",
    "depth = 16\n",
    "num_hidden = 64\n",
    "image_height = train_dataset.shape[1]\n",
    "image_width = train_dataset.shape[2]\n",
    "num_channels = train_dataset.shape[3]\n",
    "num_labels = train_labels.shape[1]\n",
    "graph = tf.Graph()\n",
    "\n",
    "with graph.as_default():\n",
    "\n",
    "  # Input data.\n",
    "  tf_train_dataset = tf.placeholder(\n",
    "    tf.float32, shape=(batch_size, image_height, image_width, num_channels))\n",
    "  tf_train_labels = tf.placeholder(tf.float32, shape=(batch_size, num_labels))\n",
    "  tf_valid_dataset = tf.constant(valid_dataset)\n",
    "  tf_test_dataset = tf.constant(test_dataset)\n",
    "  \n",
    "  # Variables.\n",
    "  layer1_weights = tf.Variable(tf.truncated_normal(\n",
    "      [patch_size, patch_size, num_channels, depth], stddev=0.1))\n",
    "  layer1_biases = tf.Variable(tf.zeros([depth]))\n",
    "  layer2_weights = tf.Variable(tf.truncated_normal(\n",
    "      [patch_size, patch_size, depth, depth], stddev=0.1))\n",
    "  layer2_biases = tf.Variable(tf.constant(1.0, shape=[depth]))\n",
    "  layer3_weights = tf.Variable(tf.truncated_normal(\n",
    "      [int(np.ceil(image_height / 4.0) * np.ceil(image_width / 4.0) * depth), num_hidden], stddev=0.1))\n",
    "  layer3_biases = tf.Variable(tf.constant(1.0, shape=[num_hidden]))\n",
    "  layer4_weights = tf.Variable(tf.truncated_normal(\n",
    "      [num_hidden, num_labels], stddev=0.1))\n",
    "  layer4_biases = tf.Variable(tf.constant(1.0, shape=[num_labels]))\n",
    "  \n",
    "  # Model.\n",
    "  def model(data):\n",
    "    conv = tf.nn.conv2d(data, layer1_weights, [1, 1, 1, 1], padding='SAME')\n",
    "    hidden = tf.nn.relu(conv + layer1_biases)\n",
    "    hidden = tf.nn.max_pool(hidden,[1,2,2,1],[1,2,2,1],padding='SAME')\n",
    "    conv = tf.nn.conv2d(hidden, layer2_weights, [1, 1, 1, 1], padding='SAME')\n",
    "    hidden = tf.nn.relu(conv + layer2_biases)\n",
    "    hidden = tf.nn.max_pool(hidden,[1,2,2,1],[1,2,2,1],padding='SAME')    \n",
    "    shape = hidden.get_shape().as_list()\n",
    "    reshape = tf.reshape(hidden, [shape[0], shape[1] * shape[2] * shape[3]])\n",
    "    hidden = tf.nn.relu(tf.matmul(reshape, layer3_weights) + layer3_biases)\n",
    "    return tf.matmul(hidden, layer4_weights) + layer4_biases\n",
    "  \n",
    "  # Training computation.\n",
    "  logits = model(tf_train_dataset)\n",
    "  loss = tf.reduce_mean(tf.squared_difference(tf_train_labels, logits))\n",
    "  #loss = np.sqrt(((tf_train_labels - logits) ** 2).mean())\n",
    "\n",
    "  #loss = tf.reduce_mean(\n",
    "  #  tf.nn.softmax_cross_entropy_with_logits(labels=tf_train_labels, logits=logits))\n",
    "    \n",
    "  # Optimizer.\n",
    "  optimizer = tf.train.GradientDescentOptimizer(0.1).minimize(loss)\n",
    "  \n",
    "  # Predictions for the training, validation, and test data.\n",
    "  train_prediction = (logits)\n",
    "  valid_prediction = model(tf_valid_dataset)\n",
    "  test_prediction = model(tf_test_dataset)"
   ]
  },
  {
   "cell_type": "code",
   "execution_count": 28,
   "metadata": {},
   "outputs": [
    {
     "name": "stdout",
     "output_type": "stream",
     "text": [
      "Initialized\n",
      "Minibatch loss at step 0: 14.309810\n",
      "Minibatch accuracy: 3.783\n",
      "Validation accuracy: 242.492\n",
      "Test accuracy: 140.3070373535\n",
      "Minibatch loss at step 100: nan\n",
      "Minibatch accuracy: nan\n",
      "Validation accuracy: nan\n",
      "Test accuracy: nan\n",
      "Minibatch loss at step 200: nan\n",
      "Minibatch accuracy: nan\n",
      "Validation accuracy: nan\n",
      "Test accuracy: nan\n",
      "Minibatch loss at step 300: nan\n",
      "Minibatch accuracy: nan\n",
      "Validation accuracy: nan\n",
      "Test accuracy: nan\n",
      "Minibatch loss at step 400: nan\n",
      "Minibatch accuracy: nan\n",
      "Validation accuracy: nan\n",
      "Test accuracy: nan\n",
      "Minibatch loss at step 500: nan\n",
      "Minibatch accuracy: nan\n",
      "Validation accuracy: nan\n",
      "Test accuracy: nan\n",
      "Minibatch loss at step 600: nan\n",
      "Minibatch accuracy: nan\n",
      "Validation accuracy: nan\n",
      "Test accuracy: nan\n",
      "Minibatch loss at step 700: nan\n",
      "Minibatch accuracy: nan\n",
      "Validation accuracy: nan\n",
      "Test accuracy: nan\n",
      "Minibatch loss at step 800: nan\n",
      "Minibatch accuracy: nan\n",
      "Validation accuracy: nan\n",
      "Test accuracy: nan\n",
      "Minibatch loss at step 900: nan\n",
      "Minibatch accuracy: nan\n",
      "Validation accuracy: nan\n",
      "Test accuracy: nan\n",
      "Minibatch loss at step 1000: nan\n",
      "Minibatch accuracy: nan\n",
      "Validation accuracy: nan\n",
      "Test accuracy: nan\n"
     ]
    }
   ],
   "source": [
    "num_steps = 1001\n",
    "def accuracy(predictions, labels):\n",
    "  return np.sqrt(((predictions - labels) ** 2).mean())\n",
    "def accuracy_xy(predictions,labels):\n",
    "    return (np.sqrt(((predictions[:,0] - labels[:,0]) ** 2).mean()),np.sqrt(((predictions[:,1] - labels[:,1]) ** 2).mean()))\n",
    "with tf.Session(graph=graph) as session:\n",
    "  tf.global_variables_initializer().run()\n",
    "  print('Initialized')\n",
    "  for step in range(num_steps):\n",
    "    offset = (step * batch_size) % (train_labels.shape[0] - batch_size)\n",
    "    batch_data = train_dataset[offset:(offset + batch_size), :, :, :]\n",
    "    batch_labels = train_labels[offset:(offset + batch_size), :]\n",
    "    #print(batch_labels.shape)\n",
    "    feed_dict = {tf_train_dataset : batch_data, tf_train_labels : batch_labels}\n",
    "    _, l, predictions = session.run(\n",
    "      [optimizer, loss, train_prediction], feed_dict=feed_dict)\n",
    "    np.savetxt(\"test_labels.txt\",test_labels,delimiter=',')\n",
    "    \n",
    "    if (step % 100 == 0):\n",
    "      print('Minibatch loss at step %d: %f' % (step, l))\n",
    "      print(\"Minibatch accuracy: %.3f\" % accuracy(predictions, batch_labels))\n",
    "      np.savetxt('batch_labels_'+str(step)+'.txt',batch_labels,delimiter=',')\n",
    "      np.savetxt('batch_predict_'+str(step)+'.txt',predictions,delimiter=',')\n",
    "      print(\"Validation accuracy: %.3f\" % accuracy(\n",
    "        valid_prediction.eval(), valid_labels))\n",
    "      test_predict = test_prediction.eval()      \n",
    "      np.savetxt('predict_labels_'+str(step)+'.txt',test_predict,delimiter=',')\n",
    "      print(\"Test accuracy: %.10f\" % accuracy(test_prediction.eval(), test_labels))"
   ]
  },
  {
   "cell_type": "code",
   "execution_count": null,
   "metadata": {
    "collapsed": true
   },
   "outputs": [],
   "source": []
  }
 ],
 "metadata": {
  "kernelspec": {
   "display_name": "Python 2",
   "language": "python",
   "name": "python2"
  },
  "language_info": {
   "codemirror_mode": {
    "name": "ipython",
    "version": 2
   },
   "file_extension": ".py",
   "mimetype": "text/x-python",
   "name": "python",
   "nbconvert_exporter": "python",
   "pygments_lexer": "ipython2",
   "version": "2.7.12"
  }
 },
 "nbformat": 4,
 "nbformat_minor": 2
}
